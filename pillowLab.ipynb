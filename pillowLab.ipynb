{
 "cells": [
  {
   "cell_type": "code",
   "execution_count": 1,
   "metadata": {},
   "outputs": [],
   "source": [
    "# Função para conversão de byte code para inteiro\n",
    "def toInteger(octaBin):\n",
    "    intNumber = 0\n",
    "    octaBin = list(octaBin)\n",
    "    for i in range(len(octaBin)):\n",
    "        octaBin[i] = int(octaBin[i])\n",
    "    intNumber += pow((octaBin[0] * 2),7)\n",
    "    intNumber += pow((octaBin[1] * 2),6)\n",
    "    intNumber += pow((octaBin[2] * 2),5)\n",
    "    intNumber += pow((octaBin[3] * 2),4)\n",
    "    intNumber += pow((octaBin[4] * 2),3)\n",
    "    intNumber += pow((octaBin[5] * 2),2)\n",
    "    intNumber += pow((octaBin[6] * 2),1)\n",
    "    intNumber += octaBin[7]\n",
    "    return(intNumber)"
   ]
  },
  {
   "cell_type": "code",
   "execution_count": 2,
   "metadata": {},
   "outputs": [
    {
     "name": "stdout",
     "output_type": "stream",
     "text": [
      "725 725\n"
     ]
    }
   ],
   "source": [
    "# Importacao da biblioteca\n",
    "from PIL import Image\n",
    "# Inicializacao das variáveis\n",
    "im = Image.open(\"/mnt/d/Google Drives/fernando.dipp/Análise e Desenvolvimento de Sistemas/2022-02/S096 - Trabalho de Conclusao de Curso/Esteganografia/Algoritmo/PSX_20170914_120928.jpg\")\n",
    "mensagem = \"\"\"One morning, when Gregor Samsa woke from troubled dreams, he found himself transformed in his bed into a horrible vermin. He lay on his armour-like back, and if he lifted his head a little he could see his brown belly, slightly domed and divided by arches into stiff sections. The bedding was hardly able to cover it and seemed ready to slide off any moment. His many legs, pitifully thin compared with the size of the rest of him, waved about helplessly as he looked. \"What's happened to me?\" he thought. It wasn't a dream. His room, a proper human room although a little too small, lay peacefully between its four familiar walls. A collection of textile samples lay spread out on the table - Samsa was a travelling salesman - and above it there hung a picture that he had recently cut out of an illustrated magazine and housed in a nice, gilded frame. It showed a lady fitted out with a fur hat and fur boa who sat upright, raising a heavy fur muff that covered the whole of her lower arm towards the viewer. Gregor then turned to look out the window at the dull weather. Drops\"\"\"\n",
    "coordX = 0\n",
    "coordY = 0\n",
    "maxX = im.size[0]\n",
    "maxY = im.size[1]\n",
    "\n",
    "print(maxX,maxY)\n",
    "\n",
    "# Iterando cada letra da mensagem a ser ocultada, disparando a rotina abaixo\n",
    "for i in range(0, len(mensagem)):\n",
    "    # transformando a letra em bits (tabela ASCII)\n",
    "    octaChar = '{0:08b}'.format(ord(mensagem[i]),'b')\n",
    "    octaChar = list(octaChar)\n",
    "    # variáveis de controle\n",
    "    k = 0\n",
    "    charCounter = 0\n",
    "    # Iterando cada bit do byte ASCII\n",
    "    for j in range(0,7,3):\n",
    "        # Condicional se o eixo X já chegou no índice máximo, caso sim, o \"ponteiro\"\n",
    "        # volta tudo para a esquerda e desce uma linha no eixo Y\n",
    "        # (mesmo sentido de leitura de livros, por exemplo)\n",
    "        if (coordX+k == maxX):\n",
    "            coordY += 1\n",
    "            coordX = 0\n",
    "        # Coletando os níveis RGB do determinado pixel\n",
    "        r, g, b = im.getpixel((coordX+k,coordY))\n",
    "        # Convertendo de inteiro para binário (1 byte)\n",
    "        octaR = '{0:08b}'.format(r,'b')\n",
    "        octaG = '{0:08b}'.format(g,'b')\n",
    "        octaB = '{0:08b}'.format(b,'b')\n",
    "        # Convertendo o bit menos significativo da cor Vermelha\n",
    "        octaR = list(octaR)\n",
    "        octaR[-1] = octaChar[charCounter]\n",
    "        octaR = ''.join(octaR)\n",
    "        # Convertendo o bit menos significativo da cor Verde\n",
    "        octaG = list(octaG)\n",
    "        octaG[-1] = octaChar[charCounter+1]\n",
    "        octaG = ''.join(octaG)\n",
    "        octaB = list(octaB)\n",
    "        try:\n",
    "            # Convertendo o bit menos significativo da cor Azul\n",
    "            octaB[-1] = octaChar[charCounter+2]\n",
    "        except:\n",
    "            # Aplicando a flag de final de mensagem\n",
    "            if (i >= len(mensagem)-1):\n",
    "                octaB[-1] = '1'\n",
    "            # Aplicando a flag de continuação da mensagem\n",
    "            else:\n",
    "                octaB[-1] = '0'\n",
    "        octaB = ''.join(octaB)\n",
    "        # Atualizando os níveis das cores RGB da foto\n",
    "        im.putpixel((coordX+k,coordY),(toInteger(octaR),toInteger(octaG),toInteger(octaB)))\n",
    "        # Incrementando as variáveis de controle\n",
    "        charCounter += 3\n",
    "        k += 1\n",
    "    coordX += 3\n",
    "    \n",
    "\n",
    "\n",
    "# Salvando a foto manipulada com a mensagem ocultada\n",
    "im.save(\"/mnt/d/estegano.tiff\", quality=100, compress_level=0, subsampling=0,format='TIFF')"
   ]
  },
  {
   "cell_type": "code",
   "execution_count": 4,
   "metadata": {},
   "outputs": [
    {
     "name": "stdout",
     "output_type": "stream",
     "text": [
      "A mensagem é:\n",
      "One morning, when Gregor Samsa woke from troubled dreams, he found himself transformed in his bed into a horrible vermin. He lay on his armour-like back, and if he lifted his head a little he could see his brown belly, slightly domed and divided by arches into stiff sections. The bedding was hardly able to cover it and seemed ready to slide off any moment. His many legs, pitifully thin compared with the size of the rest of him, waved about helplessly as he looked. \"What's happened to me?\" he thought. It wasn't a dream. His room, a proper human room although a little too small, lay peacefully between its four familiar walls. A collection of textile samples lay spread out on the table - Samsa was a travelling salesman - and above it there hung a picture that he had recently cut out of an illustrated magazine and housed in a nice, gilded frame. It showed a lady fitted out with a fur hat and fur boa who sat upright, raising a heavy fur muff that covered the whole of her lower arm towards the viewer. Gregor then turned to look out the window at the dull weather. Drops\n"
     ]
    }
   ],
   "source": [
    "# Importacao da biblioteca\n",
    "from PIL import Image\n",
    "# Inicializacao das variáveis\n",
    "im = Image.open(\"/mnt/d/estegano.tiff\")\n",
    "segredo = ''\n",
    "coordX = 0\n",
    "coordY = 0\n",
    "maxX = im.size[0]\n",
    "maxY = im.size[1]\n",
    "# Variável de Controle\n",
    "controle = True\n",
    "# Varre os bits até encontrar o bit 1 no 9o bit\n",
    "while controle != False:\n",
    "    byteChar = []\n",
    "    # bit 1, 4 e 7\n",
    "    r, g, b = im.getpixel((coordX,coordY))    \n",
    "    octaR = '{0:08b}'.format(r,'b')[-1]\n",
    "    byteChar.append(octaR)\n",
    "    octaG = '{0:08b}'.format(g,'b')[-1]\n",
    "    byteChar.append(octaG)\n",
    "    octaB = '{0:08b}'.format(b,'b')[-1]\n",
    "    byteChar.append(octaB)\n",
    "    # bit 2, 5 e 8\n",
    "    r, g, b = im.getpixel((coordX+1,coordY))    \n",
    "    octaR = '{0:08b}'.format(r,'b')[-1]\n",
    "    byteChar.append(octaR)\n",
    "    octaG = '{0:08b}'.format(g,'b')[-1]\n",
    "    byteChar.append(octaG)\n",
    "    octaB = '{0:08b}'.format(b,'b')[-1]\n",
    "    byteChar.append(octaB)  \n",
    "    # Verifica se o ponteiro chegou ao limite do eixo X, caso sim\n",
    "    # volta o X todo para a direita e desce uma linha no eixo Y\n",
    "    if (coordX+2 >= maxX):\n",
    "        coordY += 1\n",
    "        coordX = 0\n",
    "    # bit 3, 6 e 9\n",
    "    r, g, b = im.getpixel((coordX+2,coordY))    \n",
    "    octaR = '{0:08b}'.format(r,'b')[-1]\n",
    "    byteChar.append(octaR)\n",
    "    octaG = '{0:08b}'.format(g,'b')[-1]\n",
    "    byteChar.append(octaG)\n",
    "    octaB = '{0:08b}'.format(b,'b')[-1]\n",
    "    # Condicional de parada de leitura dos bits. 1 interrompe a leitura, 0 continua a leitura\n",
    "    if (octaB == '0'):      \n",
    "        byteChar.append(octaB)\n",
    "        byteCodeChar = ''.join(byteChar)\n",
    "        segredo += chr(toInteger(byteCodeChar))\n",
    "    if (octaB == '1'):\n",
    "        byteCodeChar = ''.join(byteChar)\n",
    "        segredo += chr(toInteger(byteCodeChar))\n",
    "        controle = False\n",
    "    # incrementa a variável de controle\n",
    "    coordX += 3\n",
    "# imprime a mensagem\n",
    "print('A mensagem é:\\n'+segredo)\n",
    "            \n"
   ]
  }
 ],
 "metadata": {
  "kernelspec": {
   "display_name": "Python 3",
   "language": "python",
   "name": "python3"
  },
  "language_info": {
   "codemirror_mode": {
    "name": "ipython",
    "version": 3
   },
   "file_extension": ".py",
   "mimetype": "text/x-python",
   "name": "python",
   "nbconvert_exporter": "python",
   "pygments_lexer": "ipython3",
   "version": "3.8.10"
  },
  "orig_nbformat": 4,
  "vscode": {
   "interpreter": {
    "hash": "916dbcbb3f70747c44a77c7bcd40155683ae19c65e1c03b4aa3499c5328201f1"
   }
  }
 },
 "nbformat": 4,
 "nbformat_minor": 2
}
